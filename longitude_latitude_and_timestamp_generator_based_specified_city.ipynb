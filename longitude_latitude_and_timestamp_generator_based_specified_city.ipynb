{
  "nbformat": 4,
  "nbformat_minor": 0,
  "metadata": {
    "colab": {
      "provenance": []
    },
    "kernelspec": {
      "name": "python3",
      "display_name": "Python 3"
    },
    "language_info": {
      "name": "python"
    }
  },
  "cells": [
    {
      "cell_type": "markdown",
      "source": [
        "## Random longitude,latitude and timestamp generator based specified city on any country"
      ],
      "metadata": {
        "id": "iuyjSvA8Hgo5"
      }
    },
    {
      "cell_type": "code",
      "execution_count": 1,
      "metadata": {
        "colab": {
          "base_uri": "https://localhost:8080/"
        },
        "id": "F58gG6EuHdf2",
        "outputId": "132b7808-a281-44a9-a179-01997d9a8324"
      },
      "outputs": [
        {
          "output_type": "stream",
          "name": "stdout",
          "text": [
            "Latitude: 28.890167470239152\n",
            "Longitude: 77.03668031111769\n",
            "Timestamp: 2023-03-09 09:32:22.487868\n",
            "_____________________________\n",
            "Latitude: 28.3888297127575\n",
            "Longitude: 77.28113964447863\n",
            "Timestamp: 2023-02-15 16:04:59.048811\n",
            "_____________________________\n",
            "Latitude: 28.678469999108827\n",
            "Longitude: 77.17819336210104\n",
            "Timestamp: 2023-04-16 14:34:02.887464\n",
            "_____________________________\n",
            "Latitude: 28.97787755008728\n",
            "Longitude: 76.887791377453\n",
            "Timestamp: 2023-04-18 14:41:50.291876\n",
            "_____________________________\n",
            "Latitude: 28.674227183062\n",
            "Longitude: 77.53153266100277\n",
            "Timestamp: 2023-03-15 19:41:29.623152\n",
            "_____________________________\n"
          ]
        }
      ],
      "source": [
        "from geopy.geocoders import Nominatim\n",
        "from random import uniform\n",
        "import datetime\n",
        "\n",
        "geolocator = Nominatim(user_agent=\"my_app\")\n",
        "\n",
        "city = geolocator.geocode(\"New Dehli, India\")\n",
        "latitude = city.latitude\n",
        "longitude = city.longitude\n",
        "\n",
        "for i in range(5):\n",
        "    lat_offset = uniform(-0.5, 0.5)\n",
        "    long_offset = uniform(-0.5, 0.5)\n",
        "\n",
        "    random_latitude = latitude + lat_offset\n",
        "    random_longitude = longitude + long_offset\n",
        "\n",
        "    # Generate a random timestamp within a range after the year 2023\n",
        "    start_timestamp = datetime.datetime(2023, 1, 1)\n",
        "    end_timestamp = datetime.datetime(2023, 4, 30)\n",
        "    time_diff = (end_timestamp - start_timestamp).total_seconds()\n",
        "    random_timestamp = start_timestamp + datetime.timedelta(seconds=uniform(0, time_diff))\n",
        "\n",
        "    print(\"Latitude:\", random_latitude)\n",
        "    print(\"Longitude:\", random_longitude)\n",
        "    print(\"Timestamp:\", random_timestamp)\n",
        "    print(\"_____________________________\")"
      ]
    }
  ]
}